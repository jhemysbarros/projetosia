{
 "metadata": {
  "language_info": {
   "codemirror_mode": {
    "name": "ipython",
    "version": 3
   },
   "file_extension": ".py",
   "mimetype": "text/x-python",
   "name": "python",
   "nbconvert_exporter": "python",
   "pygments_lexer": "ipython3",
   "version": "3.8.5-final"
  },
  "orig_nbformat": 2,
  "kernelspec": {
   "name": "python3",
   "display_name": "Python 3.8.5 64-bit",
   "metadata": {
    "interpreter": {
     "hash": "8e9ac0457a77583a7dfa15814c46f784407726204db8c198a06f4d43b3400d52"
    }
   }
  }
 },
 "nbformat": 4,
 "nbformat_minor": 2,
 "cells": [
  {
   "cell_type": "code",
   "execution_count": null,
   "metadata": {},
   "outputs": [],
   "source": [
    "import random"
   ]
  },
  {
   "cell_type": "code",
   "execution_count": null,
   "metadata": {},
   "outputs": [],
   "source": [
    "TAMANHO_POPULACAO        = 6     # tamanho da populacao\n",
    "TAMANHO_GENOMA           = 5     # numero de bits por individio da populacao\n",
    "GERACOES                 = 100   # numero max de geracoes para o algoritmo genetico\n",
    "TAMANHO_TORNEIO          = 3     # tamanho do torneio para selecao\n",
    "PROBABILIDADE_MUTACAO    = 0.1   # probabilidade de mutacao"
   ]
  },
  {
   "cell_type": "code",
   "execution_count": null,
   "metadata": {},
   "outputs": [],
   "source": [
    "def iniciar_populacao(): \n",
    "    return([(''.join(random.choice(\"01\") for i in range(TAMANHO_GENOMA))) \n",
    "                        for i in range(TAMANHO_POPULACAO)])"
   ]
  },
  {
   "cell_type": "code",
   "execution_count": null,
   "metadata": {},
   "outputs": [],
   "source": [
    "def fitness(individual):\n",
    "    return str(individual).count(\"1\")"
   ]
  },
  {
   "cell_type": "code",
   "execution_count": null,
   "metadata": {},
   "outputs": [],
   "source": [
    "def selecao(populacao):\n",
    "    tournament = [random.choice(populacao) for i in range(TAMANHO_TORNEIO)]\n",
    "    fitnesses = [fitness(tournament[i]) for i in range(TAMANHO_TORNEIO)]\n",
    "    return tournament[fitnesses.index(max(fitnesses))] "
   ]
  },
  {
   "cell_type": "code",
   "execution_count": null,
   "metadata": {},
   "outputs": [],
   "source": [
    "def cruzamento(parent1,parent2): \n",
    "    parent1,parent2=str(parent1),str(parent2)\n",
    "    xo_point=random.randint(1, TAMANHO_GENOMA-1)\n",
    "    return([\n",
    "            parent1[0:xo_point]+parent2[xo_point:TAMANHO_GENOMA],\n",
    "            parent2[0:xo_point]+parent1[xo_point:TAMANHO_GENOMA] ])"
   ]
  },
  {
   "cell_type": "code",
   "execution_count": null,
   "metadata": {},
   "outputs": [],
   "source": [
    "def bitflip(bit): \n",
    "    bit=str(bit)\n",
    "    if bit == \"0\":\n",
    "        return \"1\"\n",
    "    else:\n",
    "        return \"0\""
   ]
  },
  {
   "cell_type": "code",
   "execution_count": null,
   "metadata": {},
   "outputs": [],
   "source": [
    "def mutacao(individual): \n",
    "    individual=str(individual)\n",
    "    for i in range(TAMANHO_GENOMA):\n",
    "        if random.random() < PROBABILIDADE_MUTACAO:\n",
    "            individual = individual[:i] + bitflip(i) + individual[i+1:]\n",
    "    return(individual)   "
   ]
  },
  {
   "cell_type": "code",
   "execution_count": null,
   "metadata": {},
   "outputs": [],
   "source": [
    "def imprimir_populacao(populacao):            \n",
    "    fitnesses = [fitness(populacao[i]) for i in range(TAMANHO_POPULACAO)]\n",
    "    print(list(zip(populacao,fitnesses)))"
   ]
  },
  {
   "cell_type": "code",
   "execution_count": null,
   "metadata": {},
   "outputs": [],
   "source": [
    "random.seed()\n",
    "populacao = iniciar_populacao()"
   ]
  },
  {
   "cell_type": "code",
   "execution_count": null,
   "metadata": {},
   "outputs": [],
   "source": [
    "for gen in range(GERACOES):\n",
    "    print(\"Generation \",gen)\n",
    "    imprimir_populacao(populacao)\n",
    "    if max([fitness(populacao[i]) for i in range(TAMANHO_POPULACAO)]) == TAMANHO_GENOMA:\n",
    "        break\n",
    "\n",
    "    populacao_proxgen=[]\n",
    "    for i in range(int(TAMANHO_POPULACAO/2)):\n",
    "        parent1 = selecao(populacao)\n",
    "        parent2 = selecao(populacao)\n",
    "        offspring = cruzamento(parent1,parent2)\n",
    "        populacao_proxgen.append(mutacao(offspring[0]))\n",
    "        populacao_proxgen.append(mutacao(offspring[1]))\n",
    "    populacao = populacao_proxgen"
   ]
  }
 ]
}