{
 "metadata": {
  "language_info": {
   "codemirror_mode": {
    "name": "ipython",
    "version": 3
   },
   "file_extension": ".py",
   "mimetype": "text/x-python",
   "name": "python",
   "nbconvert_exporter": "python",
   "pygments_lexer": "ipython3",
   "version": "3.8.5-final"
  },
  "orig_nbformat": 2,
  "kernelspec": {
   "name": "Python 3.8.5 64-bit",
   "display_name": "Python 3.8.5 64-bit",
   "metadata": {
    "interpreter": {
     "hash": "8e9ac0457a77583a7dfa15814c46f784407726204db8c198a06f4d43b3400d52"
    }
   }
  }
 },
 "nbformat": 4,
 "nbformat_minor": 2,
 "cells": [
  {
   "cell_type": "code",
   "execution_count": null,
   "metadata": {},
   "outputs": [],
   "source": [
    "n = 0.02\n",
    "w = [-1, 0.45, 0.10]"
   ]
  },
  {
   "cell_type": "code",
   "execution_count": null,
   "metadata": {},
   "outputs": [],
   "source": [
    "e, delta1, delta2 = [], [], []\n",
    "print('| x1 | x2 |  d      | f |  o  | Atual | e  | delta1 | delta2 |')\n",
    "for i in range(len(x1)):\n",
    "  x = [x1[i], x2[i]]\n",
    "  d = soma(w, x)\n",
    "  f = saidaAtivada(soma(w, x))\n",
    "  atual = 'A' if f > 0 else 'B'\n",
    "  e.append(errorIndividual(o[i], f))\n",
    "  delta1.append((n * e[i] * x1[i]))\n",
    "  delta2.append((n * e[i] * x2[i]))\n",
    "  linha = [x1[i],  x2[i],  d, f, o[i], atual, e[i]**2, delta1[i], delta2[i]]\n",
    "  print('| {:}  | {:}  |  {:.2f}  | {:>2} | {:>2}  |  {:}   | {:>2}  |   {:>2,.2f}  |  {:>2,.2f}  |'.format(*linha))\n",
    "print('Erro Global:', errorGlobal(e))\n",
    "print('Erro Global ^2:',errorGlobal(e) ** 2)"
   ]
  }
 ]
}