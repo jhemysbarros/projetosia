{
 "metadata": {
  "language_info": {
   "codemirror_mode": {
    "name": "ipython",
    "version": 3
   },
   "file_extension": ".py",
   "mimetype": "text/x-python",
   "name": "python",
   "nbconvert_exporter": "python",
   "pygments_lexer": "ipython3",
   "version": "3.8.5-final"
  },
  "orig_nbformat": 2,
  "kernelspec": {
   "name": "Python 3.8.5 64-bit",
   "display_name": "Python 3.8.5 64-bit",
   "metadata": {
    "interpreter": {
     "hash": "8e9ac0457a77583a7dfa15814c46f784407726204db8c198a06f4d43b3400d52"
    }
   }
  }
 },
 "nbformat": 4,
 "nbformat_minor": 2,
 "cells": [
  {
   "cell_type": "code",
   "execution_count": null,
   "metadata": {},
   "outputs": [],
   "source": [
    "x1, x2 = [8, 1, 4, 2], [3, 1, 2, 1]\n",
    "o = [1, -1, -1, 1]\n",
    "w = [-1, 0.45, 0.10]"
   ]
  },
  {
   "cell_type": "code",
   "execution_count": null,
   "metadata": {},
   "outputs": [],
   "source": [
    "def soma (w, x):\n",
    "  d = w[0]\n",
    "  for i in range(2):\n",
    "    d += w[i+1]*x[i];\n",
    "  return d"
   ]
  },
  {
   "cell_type": "code",
   "execution_count": null,
   "metadata": {},
   "outputs": [],
   "source": [
    "def saidaAtivada(d):\n",
    "  if d >= 0:\n",
    "    return 1\n",
    "  return -1"
   ]
  },
  {
   "cell_type": "code",
   "execution_count": null,
   "metadata": {},
   "outputs": [],
   "source": [
    "def errorIndividual(o, f):\n",
    "  return o - f"
   ]
  },
  {
   "cell_type": "code",
   "execution_count": null,
   "metadata": {},
   "outputs": [],
   "source": [
    "def errorGlobal(e):\n",
    "    return 0.5*somatorio(e) ** 2"
   ]
  },
  {
   "cell_type": "code",
   "execution_count": null,
   "metadata": {},
   "outputs": [],
   "source": [
    "def somatorio(numeros):\n",
    "    soma = 0\n",
    "    for i in numeros:\n",
    "        soma = soma + i\n",
    "    return soma"
   ]
  },
  {
   "cell_type": "code",
   "execution_count": null,
   "metadata": {},
   "outputs": [],
   "source": [
    "e = []\n",
    "print('| x1 | x2 |  d      | f |  o  | Atual || e  |')\n",
    "for i in range(len(x1)):\n",
    "  x = [x1[i], x2[i]]\n",
    "  d = soma(w, x)\n",
    "  f = saidaAtivada(soma(w, x))\n",
    "  atual = 'A' if f > 0 else 'B'\n",
    "  e.append(errorIndividual(o[i], f))\n",
    "  linha = [x1[i],  x2[i],  d, f, o[i], atual, e[i]**2]\n",
    "  print('| {:}  | {:}  |  {:.2f}  | {:>2} | {:>2}  |  {:}   | {:>2}  |'.format(*linha))\n",
    "print('Erro Global:', errorGlobal(e))\n",
    "print('Erro Global ^2:',errorGlobal(e) ** 2)"
   ]
  }
 ]
}